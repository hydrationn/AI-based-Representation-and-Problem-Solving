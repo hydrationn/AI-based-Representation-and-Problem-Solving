{
  "nbformat": 4,
  "nbformat_minor": 0,
  "metadata": {
    "colab": {
      "provenance": [],
      "authorship_tag": "ABX9TyPQhI/Csj02PRaeMPP82zuy",
      "include_colab_link": true
    },
    "kernelspec": {
      "name": "python3",
      "display_name": "Python 3"
    },
    "language_info": {
      "name": "python"
    }
  },
  "cells": [
    {
      "cell_type": "markdown",
      "metadata": {
        "id": "view-in-github",
        "colab_type": "text"
      },
      "source": [
        "<a href=\"https://colab.research.google.com/github/hydrationn/AI-based-Representation-and-Problem-Solving/blob/main/20240313_2%EC%A3%BC%EC%B0%A8_%EC%8B%A4%EC%8A%B5.ipynb\" target=\"_parent\"><img src=\"https://colab.research.google.com/assets/colab-badge.svg\" alt=\"Open In Colab\"/></a>"
      ]
    },
    {
      "cell_type": "code",
      "execution_count": null,
      "metadata": {
        "id": "_uIW9kXI-kkb"
      },
      "outputs": [],
      "source": [
        "import numpy as np"
      ]
    },
    {
      "cell_type": "code",
      "source": [
        "arr = np.array([1,2,3],dtype = np.uint8)\n",
        "print(arr)\n",
        "print(type(arr))\n",
        "print(type(arr[0]))\n",
        "print(arr.shape)"
      ],
      "metadata": {
        "colab": {
          "base_uri": "https://localhost:8080/"
        },
        "id": "bvPXKI6ZAPWB",
        "outputId": "9d98d715-ef62-4936-a773-40a501daaa88"
      },
      "execution_count": null,
      "outputs": [
        {
          "output_type": "stream",
          "name": "stdout",
          "text": [
            "[1 2 3]\n",
            "<class 'numpy.ndarray'>\n",
            "<class 'numpy.uint8'>\n",
            "(3,)\n"
          ]
        }
      ]
    },
    {
      "cell_type": "code",
      "source": [
        "arr1 = np.arange(0,10,2)\n",
        "arr2 = np.linspace(0,10,5)\n",
        "arr3  = np.linspace(0,10,5, endpoint=False)\n",
        "print(arr1)\n",
        "print(arr2)\n",
        "print(arr3)"
      ],
      "metadata": {
        "colab": {
          "base_uri": "https://localhost:8080/"
        },
        "id": "ZZvbThRAAdoM",
        "outputId": "b4ad7a8b-a3cb-4cf0-e52b-16180d961e64"
      },
      "execution_count": null,
      "outputs": [
        {
          "output_type": "stream",
          "name": "stdout",
          "text": [
            "[0 2 4 6 8]\n",
            "[ 0.   2.5  5.   7.5 10. ]\n",
            "[0. 2. 4. 6. 8.]\n"
          ]
        }
      ]
    },
    {
      "cell_type": "code",
      "source": [
        "arr4 = np.ones((4,4))\n",
        "print(arr4)\n",
        "print(arr4[0:3, 2:4])"
      ],
      "metadata": {
        "colab": {
          "base_uri": "https://localhost:8080/"
        },
        "id": "0LCDn6OsA2n1",
        "outputId": "cb8cb82d-095e-4c75-87ff-a95f0dbaa453"
      },
      "execution_count": null,
      "outputs": [
        {
          "output_type": "stream",
          "name": "stdout",
          "text": [
            "[[1. 1. 1. 1.]\n",
            " [1. 1. 1. 1.]\n",
            " [1. 1. 1. 1.]\n",
            " [1. 1. 1. 1.]]\n",
            "[[1. 1.]\n",
            " [1. 1.]\n",
            " [1. 1.]]\n"
          ]
        }
      ]
    },
    {
      "cell_type": "code",
      "source": [
        "arr5 = np.full((2,2),3)\n",
        "eye1 = np.eye(3,2,dtype = np.uint8)\n",
        "eye2 = np.eye(2)\n",
        "\n",
        "print(arr5)\n",
        "print(eye1)\n",
        "print(eye2)"
      ],
      "metadata": {
        "colab": {
          "base_uri": "https://localhost:8080/"
        },
        "id": "TFYfMu5bBIjS",
        "outputId": "701901ff-1556-48ce-d048-ab606e20b15a"
      },
      "execution_count": null,
      "outputs": [
        {
          "output_type": "stream",
          "name": "stdout",
          "text": [
            "[[3 3]\n",
            " [3 3]]\n",
            "[[1 0]\n",
            " [0 1]\n",
            " [0 0]]\n",
            "[[1. 0.]\n",
            " [0. 1.]]\n"
          ]
        }
      ]
    },
    {
      "cell_type": "code",
      "source": [
        "arr3 = np.array([[1,2,3,4],\n",
        "                [5,6,7,8],\n",
        "                [9,10,11,12],\n",
        "                [11,12,13,14]])\n",
        "print(arr3[0:3,2:4])"
      ],
      "metadata": {
        "colab": {
          "base_uri": "https://localhost:8080/"
        },
        "id": "PCR8N1JaB6Ag",
        "outputId": "efc20785-6d8f-4ad6-bcb8-ffd65bdd6f7f"
      },
      "execution_count": null,
      "outputs": [
        {
          "output_type": "stream",
          "name": "stdout",
          "text": [
            "[[ 3  4]\n",
            " [ 7  8]\n",
            " [11 12]]\n"
          ]
        }
      ]
    },
    {
      "cell_type": "code",
      "source": [
        "A = np.array([[1,2],[3,4]],dtype=np.uint8)\n",
        "B = np.eye(2)\n",
        "C = np.multiply(A,B)\n",
        "D = np.dot(A,B)\n",
        "\n",
        "print(A)\n",
        "print(B)\n",
        "print(C)\n",
        "print(D)"
      ],
      "metadata": {
        "colab": {
          "base_uri": "https://localhost:8080/"
        },
        "id": "G4eeRVqfEn1Y",
        "outputId": "7aff399a-4cd1-47a6-a5a4-19f22a05c402"
      },
      "execution_count": null,
      "outputs": [
        {
          "output_type": "stream",
          "name": "stdout",
          "text": [
            "[[1 2]\n",
            " [3 4]]\n",
            "[[1. 0.]\n",
            " [0. 1.]]\n",
            "[[1. 0.]\n",
            " [0. 4.]]\n",
            "[[1. 2.]\n",
            " [3. 4.]]\n"
          ]
        }
      ]
    },
    {
      "cell_type": "code",
      "source": [
        "class Hello:\n",
        "  def __init__(self):\n",
        "    self.morn = \"Good Morning!\"\n",
        "  def morning(self):\n",
        "    print(self.morn)\n",
        "\n",
        "a = Hello()\n",
        "a.morning()"
      ],
      "metadata": {
        "colab": {
          "base_uri": "https://localhost:8080/"
        },
        "id": "ISSzqqMeFntW",
        "outputId": "64a481bf-96cf-4ac2-eb08-ea7f14997f8f"
      },
      "execution_count": null,
      "outputs": [
        {
          "output_type": "stream",
          "name": "stdout",
          "text": [
            "Good Morning!\n"
          ]
        }
      ]
    },
    {
      "cell_type": "code",
      "source": [
        "class Person():\n",
        "  def __init__(self, name, sex, age):\n",
        "    self.name = name\n",
        "    self.sex = sex\n",
        "    self.age = age\n",
        "\n",
        "  def introduce(self):\n",
        "    print('이름: %s' %self.name)\n",
        "    print('성별: %s' %self.sex)\n",
        "    print('나이: %d' %self.age)\n",
        "\n",
        "p = Person(\"박수화\", \"여성\", 23)\n",
        "p.introduce()"
      ],
      "metadata": {
        "colab": {
          "base_uri": "https://localhost:8080/"
        },
        "id": "C5kym6urJBcc",
        "outputId": "85043109-ad3b-4fb6-e7d0-323206904441"
      },
      "execution_count": null,
      "outputs": [
        {
          "output_type": "stream",
          "name": "stdout",
          "text": [
            "이름: 박수화\n",
            "성별: 여성\n",
            "나이: 23\n"
          ]
        }
      ]
    },
    {
      "cell_type": "code",
      "source": [
        "import torch\n",
        "x = torch.empty(4,2)\n",
        "print(x)"
      ],
      "metadata": {
        "colab": {
          "base_uri": "https://localhost:8080/"
        },
        "id": "7fzJgQXwCWT-",
        "outputId": "a757564d-97ec-4b80-9ce6-1b006944c941"
      },
      "execution_count": null,
      "outputs": [
        {
          "output_type": "stream",
          "name": "stdout",
          "text": [
            "tensor([[-1.8917e-38,  4.4002e-41],\n",
            "        [-1.8917e-38,  4.4002e-41],\n",
            "        [ 2.5353e+30,  3.6434e-44],\n",
            "        [ 3.3491e-43,  1.9890e-41]])\n"
          ]
        }
      ]
    },
    {
      "cell_type": "code",
      "source": [
        "x = torch.rand(4,2)\n",
        "print(x)"
      ],
      "metadata": {
        "colab": {
          "base_uri": "https://localhost:8080/"
        },
        "id": "Bp1g1B_aDSv-",
        "outputId": "9baf7168-1e52-41b8-c1c2-60101cab28bc"
      },
      "execution_count": null,
      "outputs": [
        {
          "output_type": "stream",
          "name": "stdout",
          "text": [
            "tensor([[0.8461, 0.4726],\n",
            "        [0.4084, 0.4263],\n",
            "        [0.1875, 0.5315],\n",
            "        [0.6502, 0.2014]])\n"
          ]
        }
      ]
    },
    {
      "cell_type": "code",
      "source": [
        "x = torch.zeros(4,2, dtype=torch.long)\n",
        "print(x)"
      ],
      "metadata": {
        "colab": {
          "base_uri": "https://localhost:8080/"
        },
        "id": "v0e3dXXwOUJD",
        "outputId": "1f835f6f-b7d2-47ec-ef87-1b8781e3be51"
      },
      "execution_count": null,
      "outputs": [
        {
          "output_type": "stream",
          "name": "stdout",
          "text": [
            "tensor([[0, 0],\n",
            "        [0, 0],\n",
            "        [0, 0],\n",
            "        [0, 0]])\n"
          ]
        }
      ]
    },
    {
      "cell_type": "code",
      "source": [
        "x = torch.tensor([3,2,3])\n",
        "print(x)"
      ],
      "metadata": {
        "colab": {
          "base_uri": "https://localhost:8080/"
        },
        "id": "mJ-mVWz2OkAr",
        "outputId": "f790b3c9-425f-483f-c7fa-6937d60cc845"
      },
      "execution_count": null,
      "outputs": [
        {
          "output_type": "stream",
          "name": "stdout",
          "text": [
            "tensor([3, 2, 3])\n"
          ]
        }
      ]
    },
    {
      "cell_type": "code",
      "source": [
        "x = x.new_ones(2,4,dtype=torch.double)\n",
        "print(x)"
      ],
      "metadata": {
        "colab": {
          "base_uri": "https://localhost:8080/"
        },
        "id": "5TEVyiIuOo5X",
        "outputId": "43641d26-c633-4745-d44a-b3d9c8fb7016"
      },
      "execution_count": null,
      "outputs": [
        {
          "output_type": "stream",
          "name": "stdout",
          "text": [
            "tensor([[1., 1., 1., 1.],\n",
            "        [1., 1., 1., 1.]], dtype=torch.float64)\n"
          ]
        }
      ]
    },
    {
      "cell_type": "code",
      "source": [
        "x = torch.randn_like(x, dtype=torch.float)\n",
        "print(x)"
      ],
      "metadata": {
        "colab": {
          "base_uri": "https://localhost:8080/"
        },
        "id": "Bkvfex2pO0nM",
        "outputId": "3be6bc01-3728-4efb-847a-a1c477381d22"
      },
      "execution_count": null,
      "outputs": [
        {
          "output_type": "stream",
          "name": "stdout",
          "text": [
            "tensor([[ 1.0134, -0.0863,  0.3708,  1.3377],\n",
            "        [ 0.2517,  0.8439,  0.0601, -0.1894]])\n"
          ]
        }
      ]
    },
    {
      "cell_type": "code",
      "source": [
        "print(x.size())"
      ],
      "metadata": {
        "colab": {
          "base_uri": "https://localhost:8080/"
        },
        "id": "sL0VfA6uO9dc",
        "outputId": "4a62a78e-aa70-4d70-9255-ff7e03861eee"
      },
      "execution_count": null,
      "outputs": [
        {
          "output_type": "stream",
          "name": "stdout",
          "text": [
            "torch.Size([2, 4])\n"
          ]
        }
      ]
    },
    {
      "cell_type": "code",
      "source": [
        "# 중요\n",
        "# 4D Tensor: 샘플, 높이, 너비, 채널"
      ],
      "metadata": {
        "id": "E6r1T4J8PAWv"
      },
      "execution_count": null,
      "outputs": []
    }
  ]
}